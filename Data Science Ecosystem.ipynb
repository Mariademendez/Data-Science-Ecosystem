{
 "cells": [
  {
   "cell_type": "markdown",
   "id": "3c5e0127-2320-4b0c-ba38-37bb1314fe10",
   "metadata": {},
   "source": [
    "<h1>Data Science Tools and Ecosystems<h1> \n",
    "\n"
   ]
  },
  {
   "cell_type": "markdown",
   "id": "94840af8-b3a4-4e06-b0bb-d7cd531f9730",
   "metadata": {},
   "source": [
    "In this notebook, Data Science Tools and Ecosystem are summarized."
   ]
  },
  {
   "cell_type": "markdown",
   "id": "8c2c6806-b7c4-411e-89e0-46aeb921d66f",
   "metadata": {},
   "source": [
    "Some of the popular Data science tools are:\n",
    "\n",
    "1. Python\n",
    "2. R\n",
    "3. SQL\n",
    "4. C++\n",
    "5. Java etc..;"
   ]
  },
  {
   "cell_type": "markdown",
   "id": "d8854ddb-5542-4435-b7cd-00298337b493",
   "metadata": {},
   "source": [
    "Some of the commonly used libraries used by Data Scientists include:\n",
    "1. TensorFlow.\n",
    "2. Numpy\n",
    "3. Scipy\n",
    "4. Pandas\n",
    "5. Matpotlib\n",
    "6. Keras\n",
    "7. Scikit-Learn\n",
    "8. PyTorch. etc ..;"
   ]
  },
  {
   "cell_type": "markdown",
   "id": "d6259e99-69b5-48dd-a0f4-830e1856935e",
   "metadata": {},
   "source": [
    "|Data Science Tools|\n",
    "|---|\n",
    "|SAS|\n",
    "|Apache Hadoop|\n",
    "|TensorFlow|"
   ]
  },
  {
   "cell_type": "markdown",
   "id": "bf90d5a3-a27c-40e1-8d7c-aba8a44f670a",
   "metadata": {},
   "source": [
    "<h3>Below are a few examples of evaulating arithmetic expressions in Python<h3>"
   ]
  },
  {
   "cell_type": "code",
   "execution_count": 10,
   "id": "71252e9f-a2a6-41a6-9391-1cc1dbdef07c",
   "metadata": {},
   "outputs": [
    {
     "data": {
      "text/plain": [
       "17"
      ]
     },
     "execution_count": 10,
     "metadata": {},
     "output_type": "execute_result"
    }
   ],
   "source": [
    "#this is a common arithmetic example to mutliply and then add intgers\n",
    "(3*4)+5"
   ]
  },
  {
   "cell_type": "code",
   "execution_count": 11,
   "id": "dd92d365-f62f-47ee-8ca2-e3ec02331113",
   "metadata": {},
   "outputs": [
    {
     "data": {
      "text/plain": [
       "3.3333333333333335"
      ]
     },
     "execution_count": 11,
     "metadata": {},
     "output_type": "execute_result"
    }
   ],
   "source": [
    "#This will convert 200 minutes to hours by dividing by 60\n",
    "200/60"
   ]
  },
  {
   "cell_type": "markdown",
   "id": "287c4176-964e-44a5-b723-9190bba1f60f",
   "metadata": {},
   "source": [
    "_Objective_\n",
    "* List popular languages for Data Science\n",
    "* List popular libraries for Data Science\n",
    "* List of Well known Data Sicence Tool\n",
    "* How to Provide comments in the cell"
   ]
  },
  {
   "cell_type": "markdown",
   "id": "f9f8264e-0a16-4a16-a34d-fc65d050b768",
   "metadata": {},
   "source": [
    "<h2>Author<h2>"
   ]
  },
  {
   "cell_type": "markdown",
   "id": "2eeacc1f-3997-41a5-a4a4-52ded72da87c",
   "metadata": {},
   "source": [
    "María Bellido"
   ]
  }
 ],
 "metadata": {
  "kernelspec": {
   "display_name": "Python 3 (ipykernel)",
   "language": "python",
   "name": "python3"
  },
  "language_info": {
   "codemirror_mode": {
    "name": "ipython",
    "version": 3
   },
   "file_extension": ".py",
   "mimetype": "text/x-python",
   "name": "python",
   "nbconvert_exporter": "python",
   "pygments_lexer": "ipython3",
   "version": "3.11.9"
  }
 },
 "nbformat": 4,
 "nbformat_minor": 5
}
